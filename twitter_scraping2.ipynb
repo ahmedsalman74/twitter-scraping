{
 "cells": [
  {
   "cell_type": "code",
   "execution_count": 1,
   "metadata": {},
   "outputs": [
    {
     "name": "stdout",
     "output_type": "stream",
     "text": [
      "Requirement already satisfied: requests in c:\\users\\sapry\\anaconda3\\lib\\site-packages (2.26.0)\n",
      "Requirement already satisfied: idna<4,>=2.5 in c:\\users\\sapry\\anaconda3\\lib\\site-packages (from requests) (3.2)\n",
      "Requirement already satisfied: certifi>=2017.4.17 in c:\\users\\sapry\\anaconda3\\lib\\site-packages (from requests) (2021.10.8)\n",
      "Requirement already satisfied: urllib3<1.27,>=1.21.1 in c:\\users\\sapry\\anaconda3\\lib\\site-packages (from requests) (1.26.7)\n",
      "Requirement already satisfied: charset-normalizer~=2.0.0 in c:\\users\\sapry\\anaconda3\\lib\\site-packages (from requests) (2.0.4)\n",
      "Note: you may need to restart the kernel to use updated packages.\n"
     ]
    }
   ],
   "source": [
    "pip install requests\n"
   ]
  },
  {
   "cell_type": "code",
   "execution_count": 1,
   "metadata": {},
   "outputs": [
    {
     "name": "stdout",
     "output_type": "stream",
     "text": [
      "Failed to fetch tweets from https://twitter.com/Mr_Derivatives. Status code: 400\n",
      "Failed to fetch tweets from https://twitter.com/warrior_0719. Status code: 400\n",
      "Failed to fetch tweets from https://twitter.com/ChartingProdigy. Status code: 400\n",
      "Failed to fetch tweets from https://twitter.com/allstarcharts. Status code: 400\n",
      "Failed to fetch tweets from https://twitter.com/yuriymatso. Status code: 400\n",
      "Failed to fetch tweets from https://twitter.com/TriggerTrades. Status code: 400\n",
      "Failed to fetch tweets from https://twitter.com/AdamMancini4. Status code: 400\n",
      "Failed to fetch tweets from https://twitter.com/CordovaTrades. Status code: 400\n",
      "Failed to fetch tweets from https://twitter.com/Barchart. Status code: 400\n",
      "Failed to fetch tweets from https://twitter.com/RoyLMattox. Status code: 400\n"
     ]
    }
   ],
   "source": [
    "import requests\n",
    "import re\n",
    "import time\n",
    "\n",
    "def scrape_twitter_accounts(accounts, ticker, interval_minutes):\n",
    "    while True:\n",
    "        for account in accounts:\n",
    "            try:\n",
    "                headers = {\n",
    "                    'User-Agent': 'Mozilla/5.0 (Windows NT 10.0; Win64; x64) AppleWebKit/537.36 (KHTML, like Gecko) Chrome/58.0.3029.110 Safari/537.3',\n",
    "                    'Accept-Language': 'en-US,en;q=0.5',\n",
    "                    'Accept-Encoding': 'gzip, deflate',\n",
    "                    'DNT': '1',\n",
    "                    'Connection': 'keep-alive'\n",
    "                }\n",
    "                response = requests.get(account, headers=headers)\n",
    "                if response.status_code == 200:\n",
    "                    tweets = re.findall(r'\\$\\w{3,4}', response.text)\n",
    "                    count = tweets.count(ticker)\n",
    "                    print(f\"{ticker} was mentioned {count} times in the last {interval_minutes} minutes.\")\n",
    "                else:\n",
    "                    print(f\"Failed to fetch tweets from {account}. Status code: {response.status_code}\")\n",
    "            except Exception as e:\n",
    "                print(f\"Error occurred while scraping {account}: {str(e)}\")\n",
    "\n",
    "        time.sleep(interval_minutes * 60)\n",
    "\n",
    "if __name__ == \"__main__\":\n",
    "    accounts = [\n",
    "        \"https://twitter.com/Mr_Derivatives\",\n",
    "        \"https://twitter.com/warrior_0719\",\n",
    "        \"https://twitter.com/ChartingProdigy\",\n",
    "        \"https://twitter.com/allstarcharts\",\n",
    "        \"https://twitter.com/yuriymatso\",\n",
    "        \"https://twitter.com/TriggerTrades\",\n",
    "        \"https://twitter.com/AdamMancini4\",\n",
    "        \"https://twitter.com/CordovaTrades\",\n",
    "        \"https://twitter.com/Barchart\",\n",
    "        \"https://twitter.com/RoyLMattox\"\n",
    "    ]\n",
    "\n",
    "    ticker = \"$TSLA\"  # Change this to the desired ticker\n",
    "    interval_minutes = 15  # Change this to the desired time interval\n",
    "\n",
    "    scrape_twitter_accounts(accounts, ticker, interval_minutes)\n"
   ]
  }
 ],
 "metadata": {
  "kernelspec": {
   "display_name": "base",
   "language": "python",
   "name": "python3"
  },
  "language_info": {
   "codemirror_mode": {
    "name": "ipython",
    "version": 3
   },
   "file_extension": ".py",
   "mimetype": "text/x-python",
   "name": "python",
   "nbconvert_exporter": "python",
   "pygments_lexer": "ipython3",
   "version": "3.9.7"
  }
 },
 "nbformat": 4,
 "nbformat_minor": 2
}
